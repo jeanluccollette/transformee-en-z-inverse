{
 "cells": [
  {
   "cell_type": "markdown",
   "id": "ad02a318",
   "metadata": {},
   "source": [
    "# Transformée en z inverse"
   ]
  },
  {
   "cell_type": "markdown",
   "id": "35877b62",
   "metadata": {},
   "source": [
    "Les packages utilisés :"
   ]
  },
  {
   "cell_type": "code",
   "execution_count": 1,
   "id": "f57ada06",
   "metadata": {},
   "outputs": [],
   "source": [
    "import sympy as sp\n",
    "import numpy as np\n",
    "from scipy.signal import lfilter\n",
    "import matplotlib.pyplot as plt\n",
    "from IPython.display import display"
   ]
  },
  {
   "cell_type": "markdown",
   "id": "e01d8877",
   "metadata": {},
   "source": [
    "## Calcul symbolique avec sympy"
   ]
  },
  {
   "cell_type": "markdown",
   "id": "8162286e",
   "metadata": {},
   "source": [
    "On considère un exemple $H(z)$ de transformée en $z$, avec les pôles sous forme littérale."
   ]
  },
  {
   "cell_type": "code",
   "execution_count": 2,
   "id": "18d2556b",
   "metadata": {},
   "outputs": [],
   "source": [
    "zm1, n = sp.symbols('z^{-1}, n')\n",
    "Z = sp.IndexedBase('Z')\n",
    "A = sp.IndexedBase('A')\n",
    "Zn = [(Z[0], 0.9), (Z[1], 0.7), (Z[2], 0.6)]"
   ]
  },
  {
   "cell_type": "markdown",
   "id": "1d6d550a",
   "metadata": {},
   "source": [
    "Les applications numériques pourront être effectuées via la méthode **subs**."
   ]
  },
  {
   "cell_type": "code",
   "execution_count": 3,
   "id": "4b43863e",
   "metadata": {},
   "outputs": [
    {
     "data": {
      "text/latex": [
       "$\\displaystyle \\frac{\\left(1 - 3 z^{-1}\\right) \\left(5 - 1.25 z^{-1}\\right)}{\\left(- z^{-1} {Z}_{0} + 1\\right) \\left(- z^{-1} {Z}_{1} + 1\\right) \\left(- z^{-1} {Z}_{2} + 1\\right)}$"
      ],
      "text/plain": [
       "(1 - 3*z^{-1})*(5 - 1.25*z^{-1})/((-z^{-1}*Z[0] + 1)*(-z^{-1}*Z[1] + 1)*(-z^{-1}*Z[2] + 1))"
      ]
     },
     "metadata": {},
     "output_type": "display_data"
    },
    {
     "data": {
      "text/latex": [
       "$\\displaystyle \\frac{\\left(1 - 3 z^{-1}\\right) \\left(5 - 1.25 z^{-1}\\right)}{\\left(1 - 0.9 z^{-1}\\right) \\left(1 - 0.7 z^{-1}\\right) \\left(1 - 0.6 z^{-1}\\right)}$"
      ],
      "text/plain": [
       "(1 - 3*z^{-1})*(5 - 1.25*z^{-1})/((1 - 0.9*z^{-1})*(1 - 0.7*z^{-1})*(1 - 0.6*z^{-1}))"
      ]
     },
     "metadata": {},
     "output_type": "display_data"
    }
   ],
   "source": [
    "H = 5*(1-0.25*zm1)*(1-3*zm1)/((1-Z[0]*zm1)*(1-Z[1]*zm1)*(1-Z[2]*zm1))\n",
    "display(H)\n",
    "display(H.subs(Zn))"
   ]
  },
  {
   "cell_type": "markdown",
   "id": "f3b8ed0c",
   "metadata": {},
   "source": [
    "La décomposition en élément simple avec la méthode **apart**, après application numérique, ne fonctionne pas pour l'exemple considéré !"
   ]
  },
  {
   "cell_type": "code",
   "execution_count": 4,
   "id": "28958e2b",
   "metadata": {},
   "outputs": [
    {
     "data": {
      "text/latex": [
       "$\\displaystyle - \\frac{7.38636363636364 \\left(0.230769230769231 \\left(z^{-1}\\right)^{2} - 1.0 z^{-1} + 0.307692307692308\\right)}{0.171818181818182 \\left(z^{-1}\\right)^{3} - 0.722727272727273 \\left(z^{-1}\\right)^{2} + 1.0 z^{-1} - 0.454545454545455}$"
      ],
      "text/plain": [
       "-7.38636363636364*(0.230769230769231*z^{-1}**2 - 1.0*z^{-1} + 0.307692307692308)/(0.171818181818182*z^{-1}**3 - 0.722727272727273*z^{-1}**2 + 1.0*z^{-1} - 0.454545454545455)"
      ]
     },
     "metadata": {},
     "output_type": "display_data"
    }
   ],
   "source": [
    "display(H.subs(Zn).apart())"
   ]
  },
  {
   "cell_type": "markdown",
   "id": "4db8e422",
   "metadata": {},
   "source": [
    "Il faut donc effectuer la décomposition avec la forme littérale, puis réaliser l'application numérique a posteriori. On envisage juste le cas où tous les pôles ont un ordre de multiplicité égal à 1."
   ]
  },
  {
   "cell_type": "code",
   "execution_count": 5,
   "id": "c041e365",
   "metadata": {},
   "outputs": [
    {
     "data": {
      "text/latex": [
       "$\\displaystyle \\frac{{A}_{2}}{- z^{-1} {Z}_{2} + 1} + \\frac{{A}_{1}}{- z^{-1} {Z}_{1} + 1} + \\frac{{A}_{0}}{- z^{-1} {Z}_{0} + 1}$"
      ],
      "text/plain": [
       "A[2]/(-z^{-1}*Z[2] + 1) + A[1]/(-z^{-1}*Z[1] + 1) + A[0]/(-z^{-1}*Z[0] + 1)"
      ]
     },
     "metadata": {},
     "output_type": "display_data"
    },
    {
     "data": {
      "text/latex": [
       "$\\displaystyle {A}_{0} {Z}_{0}^{n} + {A}_{1} {Z}_{1}^{n} + {A}_{2} {Z}_{2}^{n}$"
      ],
      "text/plain": [
       "A[0]*Z[0]**n + A[1]*Z[1]**n + A[2]*Z[2]**n"
      ]
     },
     "metadata": {},
     "output_type": "display_data"
    },
    {
     "name": "stdout",
     "output_type": "stream",
     "text": [
      "[(A[0], -113.750000000000), (A[1], 258.750000000000), (A[2], -140.000000000000)]\n",
      "[(Z[0], 0.9), (Z[1], 0.7), (Z[2], 0.6)]\n"
     ]
    }
   ],
   "source": [
    "tz = 0\n",
    "h = 0\n",
    "An = []\n",
    "for k in range(len(Zn)):\n",
    "    An.append((A[k], (H*(1-zm1*Z[k])).simplify().subs(Zn).subs(zm1, 1/Zn[k][1])))\n",
    "    tz = tz + A[k]/(1-zm1*Z[k])\n",
    "    h = h + A[k]*(Z[k]**n)\n",
    "display(tz)\n",
    "display(h)\n",
    "print(An)\n",
    "print(Zn)"
   ]
  },
  {
   "cell_type": "markdown",
   "id": "3c7baae8",
   "metadata": {},
   "source": [
    "Les coefficients des polynômes en $z^{-1}$ du numérateur $N(z)$ et du dénominateur $D(z)$ sont récupérés sous forme numérique selon les puissances décroissantes de $z^{-1}$."
   ]
  },
  {
   "cell_type": "code",
   "execution_count": 6,
   "id": "c660a580",
   "metadata": {},
   "outputs": [],
   "source": [
    "N = sp.fraction(H)[0]\n",
    "D = sp.fraction(H)[1].subs(Zn)\n",
    "coeffD = sp.Poly(D).coeffs()\n",
    "coeffN = sp.Poly(N).coeffs()"
   ]
  },
  {
   "cell_type": "markdown",
   "id": "b2a112a2",
   "metadata": {},
   "source": [
    "## Calcul numérique avec la fonction **lfilter** de scipy"
   ]
  },
  {
   "cell_type": "markdown",
   "id": "c85e7834",
   "metadata": {},
   "source": [
    "Les coefficients des polynômes en $z^{-1}$ du numérateur et du dénominateur sont cette fois récupérés selon les puissances croissantes de $z^{-1}$. Il n'est pas nécessaire de réaliser la décomposition en éléments simples et il suffit d'envoyer en entrée une impulsion numérique $\\delta(n)$."
   ]
  },
  {
   "cell_type": "code",
   "execution_count": 7,
   "id": "a4883870",
   "metadata": {},
   "outputs": [],
   "source": [
    "N = 25\n",
    "delta = np.zeros(N)\n",
    "tn = np.arange(N)\n",
    "delta[0] = 1"
   ]
  },
  {
   "cell_type": "code",
   "execution_count": 8,
   "id": "5919a808",
   "metadata": {},
   "outputs": [
    {
     "name": "stdout",
     "output_type": "stream",
     "text": [
      "[ 1.    -2.2    1.59  -0.378]\n",
      "[  5.   -16.25   3.75]\n"
     ]
    }
   ],
   "source": [
    "an = np.zeros(len(coeffD))\n",
    "bn = np.zeros(len(coeffN))\n",
    "an[len(coeffD)-1::-1] = coeffD\n",
    "bn[len(coeffN)-1::-1] = coeffN\n",
    "print(an)\n",
    "print(bn)"
   ]
  },
  {
   "cell_type": "code",
   "execution_count": 9,
   "id": "1783af66",
   "metadata": {},
   "outputs": [],
   "source": [
    "h_scipy = lfilter(bn, an, delta)"
   ]
  },
  {
   "cell_type": "markdown",
   "id": "18b3539a",
   "metadata": {},
   "source": [
    "## Calcul numérique avec les résultats obtenus avec sympy"
   ]
  },
  {
   "cell_type": "markdown",
   "id": "e5cdce30",
   "metadata": {},
   "source": [
    "L'application numérique s'effectue à partir de l'expression littérale de $h(n)$."
   ]
  },
  {
   "cell_type": "code",
   "execution_count": 10,
   "id": "5835258f",
   "metadata": {},
   "outputs": [
    {
     "data": {
      "text/latex": [
       "$\\displaystyle {A}_{0} {Z}_{0}^{n} + {A}_{1} {Z}_{1}^{n} + {A}_{2} {Z}_{2}^{n}$"
      ],
      "text/plain": [
       "A[0]*Z[0]**n + A[1]*Z[1]**n + A[2]*Z[2]**n"
      ]
     },
     "metadata": {},
     "output_type": "display_data"
    }
   ],
   "source": [
    "display(h)\n",
    "h_sympy = np.real(sp.lambdify(n, h.subs(Zn).subs(An), 'numpy')(tn))"
   ]
  },
  {
   "cell_type": "markdown",
   "id": "4580df2d",
   "metadata": {},
   "source": [
    "## Bilan"
   ]
  },
  {
   "cell_type": "code",
   "execution_count": 11,
   "id": "af75a710",
   "metadata": {},
   "outputs": [
    {
     "data": {
      "image/png": "[encoded data removed]",
      "text/plain": [
       "<Figure size 640x480 with 1 Axes>"
      ]
     },
     "metadata": {},
     "output_type": "display_data"
    }
   ],
   "source": [
    "plt.plot(tn, h_scipy, 'bo', label='h_scipy')\n",
    "plt.plot(tn, h_sympy, 'rx', label='h_sympy')\n",
    "plt.grid('on')\n",
    "plt.xlim([-1, N])\n",
    "plt.xticks(np.arange(N))\n",
    "plt.legend()\n",
    "plt.show()"
   ]
  }
 ],
 "metadata": {
  "kernelspec": {
   "display_name": "Python 3",
   "language": "python",
   "name": "python3"
  },
  "language_info": {
   "codemirror_mode": {
    "name": "ipython",
    "version": 3
   },
   "file_extension": ".py",
   "mimetype": "text/x-python",
   "name": "python",
   "nbconvert_exporter": "python",
   "pygments_lexer": "ipython3",
   "version": "3.10.6"
  }
 },
 "nbformat": 4,
 "nbformat_minor": 5
}
