{
 "cells": [
  {
   "cell_type": "markdown",
   "id": "ad02a318",
   "metadata": {},
   "source": [
    "# Transformée en z inverse (pôles d'ordre 1 ou 2)"
   ]
  },
  {
   "cell_type": "markdown",
   "id": "35877b62",
   "metadata": {},
   "source": [
    "Les packages utilisés :"
   ]
  },
  {
   "cell_type": "code",
   "execution_count": 1,
   "id": "f57ada06",
   "metadata": {},
   "outputs": [],
   "source": [
    "import sympy as sp\n",
    "import numpy as np\n",
    "from scipy.signal import lfilter\n",
    "import matplotlib.pyplot as plt\n",
    "from IPython.display import display"
   ]
  },
  {
   "cell_type": "markdown",
   "id": "e01d8877",
   "metadata": {},
   "source": [
    "## Calcul symbolique avec sympy"
   ]
  },
  {
   "cell_type": "markdown",
   "id": "8162286e",
   "metadata": {},
   "source": [
    "On considère un exemple $H(z)$ de transformée en $z$, avec les zéros et les pôles (ordre 1 ou 2) sous forme littérale."
   ]
  },
  {
   "cell_type": "code",
   "execution_count": 2,
   "id": "18d2556b",
   "metadata": {},
   "outputs": [],
   "source": [
    "zm1, n = sp.symbols('z^{-1}, n')\n",
    "P = sp.IndexedBase('P')\n",
    "Z = sp.IndexedBase('Z')\n",
    "A = sp.IndexedBase('A')\n",
    "Pn = [(P[0], 0.5), (P[1], 0.9), (P[2], 0.6)]\n",
    "OPn = [1, 2, 1]\n",
    "Zn = [(Z[0], 0.1), (Z[1], 0.2)]\n",
    "OZn = [1, 1]"
   ]
  },
  {
   "cell_type": "markdown",
   "id": "1d6d550a",
   "metadata": {},
   "source": [
    "Les applications numériques pourront être effectuées via la méthode **subs**."
   ]
  },
  {
   "cell_type": "code",
   "execution_count": 3,
   "id": "4b43863e",
   "metadata": {},
   "outputs": [
    {
     "data": {
      "text/latex": [
       "$\\displaystyle \\frac{5 \\left(- z^{-1} {Z}_{0} + 1\\right) \\left(- z^{-1} {Z}_{1} + 1\\right)}{\\left(- z^{-1} {P}_{0} + 1\\right) \\left(- z^{-1} {P}_{1} + 1\\right)^{2} \\left(- z^{-1} {P}_{2} + 1\\right)}$"
      ],
      "text/plain": [
       "5*(-z^{-1}*Z[0] + 1)*(-z^{-1}*Z[1] + 1)/((-z^{-1}*P[0] + 1)*(-z^{-1}*P[1] + 1)**2*(-z^{-1}*P[2] + 1))"
      ]
     },
     "metadata": {},
     "output_type": "display_data"
    },
    {
     "data": {
      "text/latex": [
       "$\\displaystyle \\frac{5 \\left(1 - 0.2 z^{-1}\\right) \\left(1 - 0.1 z^{-1}\\right)}{\\left(1 - 0.9 z^{-1}\\right)^{2} \\left(1 - 0.6 z^{-1}\\right) \\left(1 - 0.5 z^{-1}\\right)}$"
      ],
      "text/plain": [
       "5*(1 - 0.2*z^{-1})*(1 - 0.1*z^{-1})/((1 - 0.9*z^{-1})**2*(1 - 0.6*z^{-1})*(1 - 0.5*z^{-1}))"
      ]
     },
     "metadata": {},
     "output_type": "display_data"
    }
   ],
   "source": [
    "H = 5\n",
    "for k in range(len(Pn)):\n",
    "    H = H/(1 - P[k]*zm1)**OPn[k]\n",
    "for k in range(len(Zn)):\n",
    "    H = H*(1 - Z[k]*zm1)**OZn[k]\n",
    "display(H)\n",
    "display(H.subs(Pn).subs(Zn))"
   ]
  },
  {
   "cell_type": "markdown",
   "id": "f3b8ed0c",
   "metadata": {},
   "source": [
    "La décomposition en élément simple avec la méthode **apart**, après application numérique, ne fonctionne pas pour l'exemple considéré !"
   ]
  },
  {
   "cell_type": "code",
   "execution_count": 4,
   "id": "28958e2b",
   "metadata": {},
   "outputs": [
    {
     "data": {
      "text/latex": [
       "$\\displaystyle \\frac{1.61812297734628 \\left(0.02 \\left(z^{-1}\\right)^{2} - 0.3 z^{-1} + 1.0\\right)}{0.0786407766990291 \\left(z^{-1}\\right)^{4} - 0.463106796116505 \\left(z^{-1}\\right)^{3} + 1.0 \\left(z^{-1}\\right)^{2} - 0.938511326860841 z^{-1} + 0.323624595469256}$"
      ],
      "text/plain": [
       "1.61812297734628*(0.02*z^{-1}**2 - 0.3*z^{-1} + 1.0)/(0.0786407766990291*z^{-1}**4 - 0.463106796116505*z^{-1}**3 + 1.0*z^{-1}**2 - 0.938511326860841*z^{-1} + 0.323624595469256)"
      ]
     },
     "metadata": {},
     "output_type": "display_data"
    }
   ],
   "source": [
    "display(H.subs(Pn).subs(Zn).apart())"
   ]
  },
  {
   "cell_type": "markdown",
   "id": "4db8e422",
   "metadata": {},
   "source": [
    "Il faut donc effectuer la décomposition avec la forme littérale, puis réaliser l'application numérique a posteriori. On envisage juste le cas où les pôles ont un ordre de multiplicité égal à 1 ou 2."
   ]
  },
  {
   "cell_type": "code",
   "execution_count": 5,
   "id": "c041e365",
   "metadata": {},
   "outputs": [
    {
     "data": {
      "text/latex": [
       "$\\displaystyle \\frac{{A}_{2,1}}{- z^{-1} {P}_{2} + 1} + \\frac{{A}_{1,1}}{- z^{-1} {P}_{1} + 1} + \\frac{{A}_{1,2}}{\\left(- z^{-1} {P}_{1} + 1\\right)^{2}} + \\frac{{A}_{0,1}}{- z^{-1} {P}_{0} + 1}$"
      ],
      "text/plain": [
       "A[2, 1]/(-z^{-1}*P[2] + 1) + A[1, 1]/(-z^{-1}*P[1] + 1) + A[1, 2]/(-z^{-1}*P[1] + 1)**2 + A[0, 1]/(-z^{-1}*P[0] + 1)"
      ]
     },
     "metadata": {},
     "output_type": "display_data"
    },
    {
     "data": {
      "text/latex": [
       "$\\displaystyle \\left(n + 1\\right) {A}_{1,2} {P}_{1}^{n} + {A}_{0,1} {P}_{0}^{n} + {A}_{1,1} {P}_{1}^{n} + {A}_{2,1} {P}_{2}^{n}$"
      ],
      "text/plain": [
       "(n + 1)*A[1, 2]*P[1]**n + A[0, 1]*P[0]**n + A[1, 1]*P[1]**n + A[2, 1]*P[2]**n"
      ]
     },
     "metadata": {},
     "output_type": "display_data"
    },
    {
     "name": "stdout",
     "output_type": "stream",
     "text": [
      "[(A[0, 1], -18.7500000000000), (A[1, 2], 23.3333333333333), (A[1, 1], -66.2500000000001), (A[2, 1], 66.6666666666667)]\n",
      "[(Z[0], 0.1), (Z[1], 0.2)]\n",
      "[(P[0], 0.5), (P[1], 0.9), (P[2], 0.6)]\n"
     ]
    }
   ],
   "source": [
    "tz = 0\n",
    "h = 0\n",
    "An = []\n",
    "for k in range(len(Pn)):\n",
    "    if OPn[k] == 1:\n",
    "        An.append((A[k, 1],\n",
    "                   (H*(1-zm1*P[k])).simplify().subs(zm1, 1/P[k]).subs(Pn).subs(Zn)))\n",
    "        tz = tz + A[k, 1]/(1-zm1*P[k])\n",
    "        h = h + A[k, 1]*(P[k]**n)\n",
    "    elif OPn[k] == 2:\n",
    "        An.append((A[k, 2],\n",
    "                   (H*(1-zm1*P[k])**2).simplify().subs(zm1, 1/P[k]).subs(Pn).subs(Zn)))\n",
    "        tz = tz + A[k, 2]/(1-zm1*P[k])**2\n",
    "        h = h + (n+1)*A[k, 2]*(P[k]**n)\n",
    "        An.append((A[k, 1],\n",
    "                   ((H - (H*(1-zm1*P[k])**2).simplify().subs(zm1, 1/P[k])/(1-P[k]*zm1)**2) *\n",
    "                  (1-P[k]*zm1)).expand().simplify().subs(zm1, 1/P[k]).subs(Pn).subs(Zn)))\n",
    "        tz = tz + A[k, 1]/(1-zm1*P[k])\n",
    "        h = h + A[k, 1]*(P[k]**n)\n",
    "display(tz)\n",
    "display(h)\n",
    "print(An)\n",
    "print(Zn)\n",
    "print(Pn)"
   ]
  },
  {
   "cell_type": "markdown",
   "id": "3c7baae8",
   "metadata": {},
   "source": [
    "Les coefficients des polynômes en $z^{-1}$ du numérateur $N(z)$ et du dénominateur $D(z)$ sont récupérés sous forme numérique selon les puissances décroissantes de $z^{-1}$."
   ]
  },
  {
   "cell_type": "code",
   "execution_count": 6,
   "id": "c660a580",
   "metadata": {},
   "outputs": [],
   "source": [
    "N = sp.fraction(H)[0].subs(Zn)\n",
    "D = sp.fraction(H)[1].subs(Pn)\n",
    "coeffD = np.array(sp.Poly(D).coeffs(), dtype=float)\n",
    "coeffN = np.array(sp.Poly(N).coeffs(), dtype=float)"
   ]
  },
  {
   "cell_type": "markdown",
   "id": "b2a112a2",
   "metadata": {},
   "source": [
    "## Calcul numérique avec la fonction **lfilter** de scipy"
   ]
  },
  {
   "cell_type": "markdown",
   "id": "c85e7834",
   "metadata": {},
   "source": [
    "Les coefficients des polynômes en $z^{-1}$ du numérateur et du dénominateur sont cette fois récupérés selon les puissances croissantes de $z^{-1}$. Il n'est pas nécessaire de réaliser la décomposition en éléments simples et il suffit d'envoyer en entrée une impulsion numérique $\\delta(n)$."
   ]
  },
  {
   "cell_type": "code",
   "execution_count": 7,
   "id": "a4883870",
   "metadata": {},
   "outputs": [],
   "source": [
    "N = 25\n",
    "delta = np.zeros(N)\n",
    "tn = np.arange(N)\n",
    "delta[0] = 1"
   ]
  },
  {
   "cell_type": "code",
   "execution_count": 8,
   "id": "5919a808",
   "metadata": {},
   "outputs": [
    {
     "name": "stdout",
     "output_type": "stream",
     "text": [
      "[ 1.    -2.9    3.09  -1.431  0.243]\n",
      "[ 5.  -1.5  0.1]\n"
     ]
    }
   ],
   "source": [
    "an = np.flip(coeffD)\n",
    "bn = np.flip(coeffN)\n",
    "print(an)\n",
    "print(bn)"
   ]
  },
  {
   "cell_type": "code",
   "execution_count": 9,
   "id": "1783af66",
   "metadata": {},
   "outputs": [],
   "source": [
    "h_scipy = lfilter(bn, an, delta)"
   ]
  },
  {
   "cell_type": "markdown",
   "id": "18b3539a",
   "metadata": {},
   "source": [
    "## Calcul numérique avec les résultats obtenus avec sympy"
   ]
  },
  {
   "cell_type": "markdown",
   "id": "e5cdce30",
   "metadata": {},
   "source": [
    "L'application numérique s'effectue à partir de l'expression littérale de $h(n)$."
   ]
  },
  {
   "cell_type": "code",
   "execution_count": 10,
   "id": "5835258f",
   "metadata": {},
   "outputs": [
    {
     "data": {
      "text/latex": [
       "$\\displaystyle \\left(n + 1\\right) {A}_{1,2} {P}_{1}^{n} + {A}_{0,1} {P}_{0}^{n} + {A}_{1,1} {P}_{1}^{n} + {A}_{2,1} {P}_{2}^{n}$"
      ],
      "text/plain": [
       "(n + 1)*A[1, 2]*P[1]**n + A[0, 1]*P[0]**n + A[1, 1]*P[1]**n + A[2, 1]*P[2]**n"
      ]
     },
     "metadata": {},
     "output_type": "display_data"
    }
   ],
   "source": [
    "display(h)\n",
    "h_sympy = np.real(sp.lambdify(n, h.subs(Pn).subs(An), 'numpy')(tn))"
   ]
  },
  {
   "cell_type": "markdown",
   "id": "4580df2d",
   "metadata": {},
   "source": [
    "## Bilan"
   ]
  },
  {
   "cell_type": "code",
   "execution_count": 11,
   "id": "af75a710",
   "metadata": {},
   "outputs": [
    {
     "data": {
      "image/png": "[encoded data removed]",
      "text/plain": [
       "<Figure size 640x480 with 1 Axes>"
      ]
     },
     "metadata": {},
     "output_type": "display_data"
    }
   ],
   "source": [
    "plt.plot(tn, h_scipy, 'bo', label='h_scipy')\n",
    "plt.plot(tn, h_sympy, 'rx', label='h_sympy')\n",
    "plt.grid('on')\n",
    "plt.xlim([-1, N])\n",
    "plt.xticks(np.arange(N))\n",
    "plt.legend()\n",
    "plt.show()"
   ]
  }
 ],
 "metadata": {
  "kernelspec": {
   "display_name": "Python 3",
   "language": "python",
   "name": "python3"
  },
  "language_info": {
   "codemirror_mode": {
    "name": "ipython",
    "version": 3
   },
   "file_extension": ".py",
   "mimetype": "text/x-python",
   "name": "python",
   "nbconvert_exporter": "python",
   "pygments_lexer": "ipython3",
   "version": "3.10.6"
  }
 },
 "nbformat": 4,
 "nbformat_minor": 5
}
